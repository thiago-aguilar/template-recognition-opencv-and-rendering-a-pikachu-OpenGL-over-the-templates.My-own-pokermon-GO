{
 "cells": [
  {
   "cell_type": "markdown",
   "metadata": {},
   "source": [
    "# TP2 - Thiago Borges & Guilherme Leles"
   ]
  },
  {
   "cell_type": "code",
   "execution_count": 50,
   "metadata": {},
   "outputs": [],
   "source": [
    "import cv2\n",
    "import numpy as np\n",
    "from matplotlib import pyplot as plt\n",
    "import math\n",
    "import numpy as np\n",
    "import time\n",
    "import pygame\n",
    "from pygame.locals import *\n",
    "from OpenGL.GL import *\n",
    "from OpenGL.GLU import *\n",
    "from OpenGL.GLUT import *\n",
    "from OpenGL import *\n",
    "from objloader import *"
   ]
  },
  {
   "cell_type": "markdown",
   "metadata": {},
   "source": [
    "## Função Espelhar alvo"
   ]
  },
  {
   "cell_type": "markdown",
   "metadata": {},
   "source": [
    "Foi implementada para que pudéssemos ter 4 alvos, um em cada pose (rotacionando 90 graus entre cada alvo).\n",
    "Assim dependendo de qual alvo for detectado pode-se ter uma ideia de qual a orientação do alvo identificado. Além disso, podemos analisar o alvo para qualquer que seja a homografia detectada desde que seja de um alvo correto"
   ]
  },
  {
   "cell_type": "code",
   "execution_count": 51,
   "metadata": {},
   "outputs": [],
   "source": [
    "def espelha(i, erro1m, erro2m, erro3m, erro4m):\n",
    "    if erro1m < 10500 or erro3m < 10500:\n",
    "        guarda1 = i[0]\n",
    "        guarda2 = i[2]\n",
    "        i[0]= i[1]\n",
    "        i[2]= i[3]\n",
    "        i[1]=guarda1\n",
    "        i[3]=guarda2\n",
    "    elif erro2m < 10500 or erro4m < 10500:\n",
    "        guarda1 = i[0]\n",
    "        guarda2 = i[2]\n",
    "        i[0]= i[3]\n",
    "        i[2]= i[1]\n",
    "        i[1]=guarda2\n",
    "        i[3]=guarda1\n",
    "    return i"
   ]
  },
  {
   "cell_type": "code",
   "execution_count": 52,
   "metadata": {},
   "outputs": [],
   "source": [
    "def excluir_alvos_proximos(pontospnp2,pontospnp3):\n",
    "    if len(pontospnp2) != 0: pontospnp3.append(pontospnp2[0])\n",
    "\n",
    "    for i in pontospnp2:\n",
    "        for j in i:\n",
    "            for k in pontospnp3:\n",
    "                for y in k:\n",
    "                    if dist_euclidiana(j, y) < 5: flag = 0\n",
    "        if flag == 1:\n",
    "            pontospnp3.append(i)\n",
    "        else:\n",
    "            flag = 1\n",
    "    return pontospnp3"
   ]
  },
  {
   "cell_type": "markdown",
   "metadata": {},
   "source": [
    "## Função de template matching "
   ]
  },
  {
   "cell_type": "markdown",
   "metadata": {},
   "source": [
    "Nesta função é implementando metodo do erro quadrático médio,onde o score é o erro quadrático \n",
    "entre as duas imagens."
   ]
  },
  {
   "cell_type": "markdown",
   "metadata": {},
   "source": [
    "entradas: imagens a serem comparadas"
   ]
  },
  {
   "cell_type": "markdown",
   "metadata": {},
   "source": [
    "saida: erro indicado na conta. Quanto menor o erro mais parecido"
   ]
  },
  {
   "cell_type": "code",
   "execution_count": 53,
   "metadata": {},
   "outputs": [],
   "source": [
    "def compara1(imageA, imageB):\n",
    "    # implementando metodo meanSquaredError\n",
    "    err = np.sum((imageA.astype(\"float\") - imageB.astype(\"float\")) ** 2)\n",
    "    err /= float(imageA.shape[0] * imageA.shape[1])\n",
    "\n",
    "    return err"
   ]
  },
  {
   "cell_type": "markdown",
   "metadata": {},
   "source": [
    "## Distância euclidiana"
   ]
  },
  {
   "cell_type": "markdown",
   "metadata": {},
   "source": [
    "Essa função calcula a distância euclidiana entre dois pontos "
   ]
  },
  {
   "cell_type": "markdown",
   "metadata": {},
   "source": [
    "Entradas: Pontos de distância a ser calculada\n"
   ]
  },
  {
   "cell_type": "markdown",
   "metadata": {},
   "source": [
    "Saida: Distância "
   ]
  },
  {
   "cell_type": "code",
   "execution_count": 54,
   "metadata": {},
   "outputs": [],
   "source": [
    "def dist_euclidiana(v1, v2):\n",
    "\tdim, soma = len(v1), 0\n",
    "\tfor i in range(dim):\n",
    "\t\tsoma += math.pow(v1[i] - v2[i], 2)\n",
    "\treturn math.sqrt(soma)\n"
   ]
  },
  {
   "cell_type": "markdown",
   "metadata": {},
   "source": [
    "## Função de template matching 2"
   ]
  },
  {
   "cell_type": "markdown",
   "metadata": {},
   "source": [
    " Para o segundo método de template matching implementamos a conta de TM_CCORR normalizada, identificada por:\n",
    "\n",
    " \n",
    "\n",
    " \n"
   ]
  },
  {
   "cell_type": "markdown",
   "metadata": {},
   "source": [
    "entrada: imagem e angulo a ser rotacionado"
   ]
  },
  {
   "cell_type": "markdown",
   "metadata": {},
   "source": [
    "saida: imagem rotacionada"
   ]
  },
  {
   "cell_type": "markdown",
   "metadata": {},
   "source": []
  },
  {
   "cell_type": "code",
   "execution_count": 55,
   "metadata": {},
   "outputs": [],
   "source": [
    "def  compara2(imageA, imageB):\n",
    "    #implementando metodo CCORR\n",
    "\n",
    "    numerador = np.sum((imageA.astype(\"float\") * imageB.astype(\"float\")))\n",
    "    denominador1 = np.sum ( imageA.astype(\"float\")**2)\n",
    "    denominador2 = np.sum ( imageB.astype(\"float\")**2)\n",
    "    denominador = math.sqrt(denominador1*denominador2)\n",
    "    err=numerador/denominador\n",
    "    # err = numerador\n",
    "    return err\n"
   ]
  },
  {
   "cell_type": "markdown",
   "metadata": {},
   "source": [
    "## Função de homografias e template matching para identificar alvos dentre os \"possíveis alvos\" identificados anteriormente\n"
   ]
  },
  {
   "cell_type": "markdown",
   "metadata": {},
   "source": [
    "Esta função segue a seguinte lógica:\n",
    "\n",
    "-Temos todos os pontos identificados anteriormente, que identificam \"Possiveis Alvos\".\n",
    "\n",
    "-Faz-se warpPerspective com esses pontos para as coordenadas dos alvos, que serão utilizados de comparação.\n",
    "\n",
    "-Faz-se comparação com cada um dos 4 alvos (um em cada direção rotacionados em 90 graus entre si) utilizando uma das duas funções de similaridade (Template Matching) implementadas.\n",
    "\n",
    "-Se houver algum erro menor ou igual ao threshold definido de 9500, a imagem é espelhada e novamente realizamos outra vez o Template Matching. \n",
    "\n",
    "-Caso seja identificado algum alvo após essas duas tentativas, plotamos as linhas coloridas na imagem original para identificá-lo.\n",
    "\n",
    "-É importante lembrar que, qual dos 4 alvos for identificado, influenciará em qual linha será desenhada primeiro, pois o resultado final deve apresentar sempre a mesma linha na frente do alvo, independente de sua pose na cena."
   ]
  },
  {
   "cell_type": "code",
   "execution_count": 56,
   "metadata": {},
   "outputs": [],
   "source": [
    "def retorna_final(homografias,gray,final):\n",
    "# HOMOGRAFIA------------------------------------------\n",
    "    pontosPnP = []\n",
    "    for i in homografias:\n",
    "        \n",
    "        aux1 = np.array([[i[0][1], i[0][0]], [i[3][1], i[3][0]], [i[2][1], i[2][0]], [i[1][1], i[1][0]]])\n",
    "        aux2 = np.array([[0, 0], [0, tamXalvo], [tamYalvo, tamXalvo], [tamYalvo, 0]])\n",
    "        h, status = cv2.findHomography(aux1, aux2)\n",
    "        im_dst = cv2.warpPerspective(gray, h, (tamYalvo, tamXalvo))\n",
    "        \n",
    "        METODO=1\n",
    "        if METODO == 1:\n",
    "            erro1m = compara1(im_dst, alvo1m)\n",
    "            erro2m = compara1(im_dst, alvo2m)\n",
    "            erro3m = compara1(im_dst, alvo3m)\n",
    "            erro4m = compara1(im_dst, alvo4m)\n",
    "            if erro1m <= 9500 or erro2m <= 9500 or erro3m <= 9500 or erro4m <= 9500:\n",
    "                i=espelha(i,erro1m,erro2m,erro3m,erro4m)\n",
    "                aux1 = np.array([[i[0][1], i[0][0]], [i[3][1], i[3][0]], [i[2][1], i[2][0]], [i[1][1], i[1][0]]])\n",
    "                aux2 = np.array([[0, 0], [0, tamXalvo], [tamYalvo, tamXalvo], [tamYalvo, 0]])\n",
    "                h, status = cv2.findHomography(aux1, aux2)\n",
    "                im_dst = cv2.warpPerspective(gray, h, (tamYalvo, tamXalvo))\n",
    "            erro1 = compara1(im_dst, alvo1)\n",
    "            erro2 = compara1(im_dst, alvo2)\n",
    "            erro3 = compara1(im_dst, alvo3)\n",
    "            erro4 = compara1(im_dst, alvo4)\n",
    "\n",
    "                \n",
    "\n",
    "\n",
    "            if erro1 <= 9500:\n",
    "                final = cv2.line(final, (i[0][1], i[0][0]), (i[3][1], i[3][0]), (255, 0, 0), 2)\n",
    "                final = cv2.line(final, (i[3][1], i[3][0]), (i[2][1], i[2][0]), (0, 255, 0), 2)\n",
    "                final = cv2.line(final, (i[2][1], i[2][0]), (i[1][1], i[1][0]), (0, 0, 255), 2)\n",
    "                final = cv2.line(final, (i[1][1], i[1][0]), (i[0][1], i[0][0]), (255, 255, 0), 2)\n",
    "                pontosPnP.append([[i[2][1], i[2][0]],[i[1][1], i[1][0]],[i[0][1],i[0][0]],[i[3][1], i[3][0]]])\n",
    "            if erro2 <= 10500:\n",
    "                final = cv2.line(final, (i[0][1], i[0][0]), (i[3][1], i[3][0]), (255, 255, 0), 2)\n",
    "                final = cv2.line(final, (i[3][1], i[3][0]), (i[2][1], i[2][0]), (255, 0, 0), 2)\n",
    "                final = cv2.line(final, (i[2][1], i[2][0]), (i[1][1], i[1][0]), (0, 255, 0), 2)\n",
    "                final = cv2.line(final, (i[1][1], i[1][0]), (i[0][1], i[0][0]), (0, 0, 255), 2)\n",
    "                pontosPnP.append([[i[1][1], i[1][0]],[i[0][1],i[0][0]],[i[3][1], i[3][0]],[i[2][1], i[2][0]]])\n",
    "            if erro3 <= 10500:\n",
    "                final = cv2.line(final, (i[0][1], i[0][0]), (i[3][1], i[3][0]), (0, 0, 255), 2)\n",
    "                final = cv2.line(final, (i[3][1], i[3][0]), (i[2][1], i[2][0]), (255, 255, 0), 2)\n",
    "                final = cv2.line(final, (i[2][1], i[2][0]), (i[1][1], i[1][0]), (255, 0, 0), 2)\n",
    "                final = cv2.line(final, (i[1][1], i[1][0]), (i[0][1], i[0][0]), (0, 255, 0), 2)\n",
    "                pontosPnP.append([[i[0][1],i[0][0]],[i[3][1], i[3][0]],[i[2][1], i[2][0]],[i[1][1], i[1][0]]])\n",
    "            if erro4 <= 10500:\n",
    "                final = cv2.line(final, (i[0][1], i[0][0]), (i[3][1], i[3][0]), (0, 255, 0), 2)\n",
    "                final = cv2.line(final, (i[3][1], i[3][0]), (i[2][1], i[2][0]), (0, 0, 255), 2)\n",
    "                final = cv2.line(final, (i[2][1], i[2][0]), (i[1][1], i[1][0]), (255, 255, 0), 2)\n",
    "                final = cv2.line(final, (i[1][1], i[1][0]), (i[0][1], i[0][0]), (255, 0, 0), 2)\n",
    "                pontosPnP.append([[i[3][1], i[3][0]],[i[2][1], i[2][0]],[i[1][1], i[1][0]],[i[0][1],i[0][0]]])\n",
    "        else:\n",
    "            erro1 = compara2(im_dst, alvo1)\n",
    "            erro2 = compara2(im_dst, alvo2)\n",
    "            erro3 = compara2(im_dst, alvo3)\n",
    "            erro4 = compara2(im_dst, alvo4)\n",
    "\n",
    "            if erro1 >= 0.75:\n",
    "                final = cv2.line(final, (i[0][1], i[0][0]), (i[3][1], i[3][0]), (255, 0, 0), 2)\n",
    "                final = cv2.line(final, (i[3][1], i[3][0]), (i[2][1], i[2][0]), (0, 255, 0), 2)\n",
    "                final = cv2.line(final, (i[2][1], i[2][0]), (i[1][1], i[1][0]), (0, 0, 255), 2)\n",
    "                final = cv2.line(final, (i[1][1], i[1][0]), (i[0][1], i[0][0]), (255, 255, 0), 2)\n",
    "            if erro2 >= 0.75:\n",
    "                final = cv2.line(final, (i[0][1], i[0][0]), (i[3][1], i[3][0]), (255, 255, 0), 2)\n",
    "                final = cv2.line(final, (i[3][1], i[3][0]), (i[2][1], i[2][0]), (255, 0, 0), 2)\n",
    "                final = cv2.line(final, (i[2][1], i[2][0]), (i[1][1], i[1][0]), (0, 255, 0), 2)\n",
    "                final = cv2.line(final, (i[1][1], i[1][0]), (i[0][1], i[0][0]), (0, 0, 255), 2)\n",
    "            if erro3 >= 0.75:\n",
    "                final = cv2.line(final, (i[0][1], i[0][0]), (i[3][1], i[3][0]), (0, 0, 255), 2)\n",
    "                final = cv2.line(final, (i[3][1], i[3][0]), (i[2][1], i[2][0]), (255, 255, 0), 2)\n",
    "                final = cv2.line(final, (i[2][1], i[2][0]), (i[1][1], i[1][0]), (255, 0, 0), 2)\n",
    "                final = cv2.line(final, (i[1][1], i[1][0]), (i[0][1], i[0][0]), (0, 255, 0), 2)\n",
    "            if erro4 >= 0.75:\n",
    "                final = cv2.line(final, (i[0][1], i[0][0]), (i[3][1], i[3][0]), (0, 255, 0), 2)\n",
    "                final = cv2.line(final, (i[3][1], i[3][0]), (i[2][1], i[2][0]), (0, 0, 255), 2)\n",
    "                final = cv2.line(final, (i[2][1], i[2][0]), (i[1][1], i[1][0]), (255, 255, 0), 2)\n",
    "                final = cv2.line(final, (i[1][1], i[1][0]), (i[0][1], i[0][0]), (255, 0, 0), 2)\n",
    "    return final, pontosPnP\n",
    "\n"
   ]
  },
  {
   "cell_type": "markdown",
   "metadata": {},
   "source": [
    "# Rotate image"
   ]
  },
  {
   "cell_type": "code",
   "execution_count": 57,
   "metadata": {},
   "outputs": [
    {
     "ename": "SyntaxError",
     "evalue": "invalid syntax (<ipython-input-57-b9cd2dd6334c>, line 1)",
     "output_type": "error",
     "traceback": [
      "\u001b[0;36m  File \u001b[0;32m\"<ipython-input-57-b9cd2dd6334c>\"\u001b[0;36m, line \u001b[0;32m1\u001b[0m\n\u001b[0;31m    Função que roda alvo para obtermos 4 alvos para o template matching\u001b[0m\n\u001b[0m             ^\u001b[0m\n\u001b[0;31mSyntaxError\u001b[0m\u001b[0;31m:\u001b[0m invalid syntax\n"
     ]
    }
   ],
   "source": [
    "Função que roda alvo para obtermos 4 alvos para o template matching\n"
   ]
  },
  {
   "cell_type": "code",
   "execution_count": 58,
   "metadata": {},
   "outputs": [
    {
     "ename": "SyntaxError",
     "evalue": "invalid syntax (<ipython-input-58-83b36cb9af1b>, line 1)",
     "output_type": "error",
     "traceback": [
      "\u001b[0;36m  File \u001b[0;32m\"<ipython-input-58-83b36cb9af1b>\"\u001b[0;36m, line \u001b[0;32m1\u001b[0m\n\u001b[0;31m    entrada: imagem e angulo a ser rotacionado\u001b[0m\n\u001b[0m                    ^\u001b[0m\n\u001b[0;31mSyntaxError\u001b[0m\u001b[0;31m:\u001b[0m invalid syntax\n"
     ]
    }
   ],
   "source": [
    "entrada: imagem e angulo a ser rotacionado\n"
   ]
  },
  {
   "cell_type": "code",
   "execution_count": 59,
   "metadata": {},
   "outputs": [
    {
     "ename": "SyntaxError",
     "evalue": "invalid syntax (<ipython-input-59-7ca7b98afda3>, line 1)",
     "output_type": "error",
     "traceback": [
      "\u001b[0;36m  File \u001b[0;32m\"<ipython-input-59-7ca7b98afda3>\"\u001b[0;36m, line \u001b[0;32m1\u001b[0m\n\u001b[0;31m    saida: imagem rotacionada\u001b[0m\n\u001b[0m                            ^\u001b[0m\n\u001b[0;31mSyntaxError\u001b[0m\u001b[0;31m:\u001b[0m invalid syntax\n"
     ]
    }
   ],
   "source": [
    "saida: imagem rotacionada"
   ]
  },
  {
   "cell_type": "code",
   "execution_count": 60,
   "metadata": {},
   "outputs": [],
   "source": [
    "def rotateImage(image, angleInDegrees):\n",
    "    h, w = image.shape[:2]\n",
    "    img_c = (w / 2, h / 2)\n",
    "\n",
    "    rot = cv2.getRotationMatrix2D(img_c, angleInDegrees, 1)\n",
    "\n",
    "    rad = math.radians(angleInDegrees)\n",
    "    sin = math.sin(rad)\n",
    "    cos = math.cos(rad)\n",
    "    b_w = int((h * abs(sin)) + (w * abs(cos)))\n",
    "    b_h = int((h * abs(cos)) + (w * abs(sin)))\n",
    "\n",
    "    rot[0, 2] += ((b_w / 2) - img_c[0])\n",
    "    rot[1, 2] += ((b_h / 2) - img_c[1])\n",
    "\n",
    "    outImg = cv2.warpAffine(image, rot, (b_w, b_h), flags=cv2.INTER_LINEAR)\n",
    "    return outImg"
   ]
  },
  {
   "cell_type": "markdown",
   "metadata": {},
   "source": [
    "## Função para encontrar os retângulos(alvos)"
   ]
  },
  {
   "cell_type": "markdown",
   "metadata": {},
   "source": [
    "Nessa função utilizamos as funções para encontrar todos os contornos fechedaos na cena e depois filtramos todos os retângulos."
   ]
  },
  {
   "cell_type": "markdown",
   "metadata": {},
   "source": [
    "Entradas: Pontos para possível homografia, Matrix do poligono, frame original"
   ]
  },
  {
   "cell_type": "code",
   "execution_count": 61,
   "metadata": {},
   "outputs": [
    {
     "ename": "SyntaxError",
     "evalue": "invalid syntax (<ipython-input-61-cd82e169635f>, line 1)",
     "output_type": "error",
     "traceback": [
      "\u001b[0;36m  File \u001b[0;32m\"<ipython-input-61-cd82e169635f>\"\u001b[0;36m, line \u001b[0;32m1\u001b[0m\n\u001b[0;31m    Saida: Pontos para possível homografia, Matrix do poligono, frame original\u001b[0m\n\u001b[0m                     ^\u001b[0m\n\u001b[0;31mSyntaxError\u001b[0m\u001b[0;31m:\u001b[0m invalid syntax\n"
     ]
    }
   ],
   "source": [
    "Saida: Pontos para possível homografia, Matrix do poligono, frame original"
   ]
  },
  {
   "cell_type": "code",
   "execution_count": 62,
   "metadata": {},
   "outputs": [],
   "source": [
    "def find_rectangle(approx,original,homografias):\n",
    "    pontos=[]\n",
    "    for contour in imageContours:\n",
    "        epsilon = 0.009 * cv2.arcLength(contour, True)\n",
    "        approx = cv2.approxPolyDP(contour, epsilon, closed=True)\n",
    "\n",
    "        x = approx.ravel()[0]\n",
    "        y = approx.ravel()[1]\n",
    "        if len(approx) == 4:\n",
    "            pontos.append([approx[0][0],approx[1][0],approx[2][0],approx[3][0]])\n",
    "    \n",
    "    return approx,original, pontos\n"
   ]
  },
  {
   "cell_type": "code",
   "execution_count": 63,
   "metadata": {},
   "outputs": [],
   "source": [
    "def normalize_rows(x: np.ndarray):\n",
    "    \"\"\"\n",
    "    function that normalizes each row of the matrix x to have unit length.\n",
    "\n",
    "    Args:\n",
    "     ``x``: A numpy matrix of shape (n, m)\n",
    "\n",
    "    Returns:\n",
    "     ``x``: The normalized (by row) numpy matrix.\n",
    "    \"\"\"\n",
    "    return x/np.linalg.norm(x, ord=2, axis=1, keepdims=True)\n"
   ]
  },
  {
   "cell_type": "markdown",
   "metadata": {},
   "source": [
    "## FunctionPNP"
   ]
  },
  {
   "cell_type": "markdown",
   "metadata": {},
   "source": [
    "Funcao que recebe parametros utilizados para calcular o pnp e gerar a matriz de transformação a ser utilizada\n",
    "translação e rotação de cada objeto em relação de cada alvo\n"
   ]
  },
  {
   "cell_type": "markdown",
   "metadata": {},
   "source": [
    "saidas: m -> lista com matrizes de transformação a serem injetadas na opengl\n"
   ]
  },
  {
   "cell_type": "markdown",
   "metadata": {},
   "source": [
    "matrizRotacao -> lista com matrizes de rotação\n"
   ]
  },
  {
   "cell_type": "markdown",
   "metadata": {},
   "source": [
    "matrizTranslaçao -> lista com matrizes de translação"
   ]
  },
  {
   "cell_type": "code",
   "execution_count": 64,
   "metadata": {},
   "outputs": [],
   "source": [
    "def functionPnP(pontospnp, objectPoints, cameraMatrix, distCoeffs):\n",
    "    matrizRotacao = []\n",
    "    matrizTanslacao = []\n",
    "    m=[]\n",
    "    for i in pontospnp:\n",
    "        imagePoints = np.asarray([i[0],i[1],i[2],i[3]])\n",
    "        ret, rvec, tvec, = cv2.solvePnP(objectPoints.astype(float), imagePoints.astype(float), cameraMatrix, distCoeffs)\n",
    "\n",
    "       \n",
    "        tvec=tvec/math.sqrt((cameraMatrix[0][0]*cameraMatrix[0][0]+cameraMatrix[1][1]*cameraMatrix[1][1])*0.035)\n",
    "        rotm=cv2.Rodrigues(rvec)[0]\n",
    "        matrizRotacao.append(rotm)\n",
    "        matrizTanslacao.append(tvec)\n",
    "        \n",
    "        matrizAuxiliar = np.array([[rotm[0][0], rotm[0][1], rotm[0][2], tvec[0]],\n",
    "                                                [rotm[1][0], rotm[1][1], rotm[1][2], tvec[1]],\n",
    "                                                [rotm[2][0], rotm[2][1], rotm[2][2], tvec[2]],\n",
    "                                                [0.0, 0.0, 0.0, 1.0]])\n",
    "\n",
    "       \n",
    "        matrizAuxiliar = matrizAuxiliar*np.array(\n",
    "            [[1.0, 1.0, 1.0, 1.0],\n",
    "             [-1.0, -1.0, -1.0, -1.0],\n",
    "             [-1.0, -1.0, -1.0, -1.0],\n",
    "             [1.0, 1.0, 1.0, 1.0]]\n",
    "        )\n",
    "        m.append(matrizAuxiliar)\n",
    "\n",
    "    return m, matrizRotacao, matrizTanslacao\n",
    "\n"
   ]
  },
  {
   "cell_type": "markdown",
   "metadata": {},
   "source": [
    "##Init Opengl"
   ]
  },
  {
   "cell_type": "markdown",
   "metadata": {},
   "source": [
    "Função que inicializa a openGL definindo os parametros iniciais e passando os parametros da camera\n"
   ]
  },
  {
   "cell_type": "markdown",
   "metadata": {},
   "source": [
    "entradas: matriz da camera obtida por calibração e dimensões do frame\n"
   ]
  },
  {
   "cell_type": "markdown",
   "metadata": {},
   "source": [
    "saida: objeto e id a ser utilizado para plotar o background na opengl"
   ]
  },
  {
   "cell_type": "code",
   "execution_count": 65,
   "metadata": {},
   "outputs": [],
   "source": [
    "def initOpenGL(cameraMatrix, dimensions):\n",
    "\n",
    "    (tamX, tamY) = dimensions\n",
    "\n",
    "    glClearColor(0.0,0.0,0.0,0.0)\n",
    "    glClearDepth(1.0)\n",
    "    glDepthFunc(GL_LESS)\n",
    "    \n",
    "    glShadeModel(GL_SMOOTH)\n",
    "   \n",
    "\n",
    "    glMatrixMode(GL_PROJECTION)\n",
    "    glLoadIdentity()\n",
    "    Fx= cameraMatrix[0,0]\n",
    "    Fy= cameraMatrix[1,1]\n",
    "    FieldOfView= 2*np.arctan(0.5*tamY/Fy)*180/np.pi\n",
    "    aspect= (tamX*Fy)/(tamY*Fx)\n",
    "    gluPerspective(FieldOfView, aspect, 0.1, 300.0)\n",
    "    \n",
    "    glMatrixMode(GL_MODELVIEW)\n",
    "\n",
    "    obj= OBJ(\"Pikachu.obj\", swapyz=True)\n",
    "    \n",
    "    glEnable(GL_TEXTURE_2D)\n",
    "    background_id= glGenTextures(1)\n",
    "    return obj, background_id\n"
   ]
  },
  {
   "cell_type": "code",
   "execution_count": 66,
   "metadata": {},
   "outputs": [],
   "source": [
    "#----------------parametros de calibração obtidos com o toolkit:---------------------------------------------------------\n",
    "# Calibration results (with uncertainties):\n",
    "#\n",
    "# Focal Length:          fc = [ 568.45087   563.55473 ] ± [ 22.45520   20.58540 ]\n",
    "# Principal point:       cc = [ 312.86352   207.41694 ] ± [ 8.63367   17.37837 ]\n",
    "# Skew:             alpha_c = [ 0.00000 ] ± [ 0.00000  ]   => angle of pixel axes = 90.00000 ± 0.00000 degrees\n",
    "# Distortion:            kc = [ 0.10977   -0.29957   -0.00915   -0.00096  0.00000 ] ± [ 0.02947   0.10084   0.00685   0.00569  0.00000 ]\n",
    "# Pixel error:          err = [ 0.23016   0.28244 ]\n",
    "#\n",
    "# Note: The numerical errors are approximately three times the standard deviations (for reference).\n",
    "#------------------------------------------------------------------------------------------------------------------------\n",
    "# cameraMatrix= np.array([[568.45087,0,312.86352],[0,563.55473,207.41694],[0,0,1]])\n",
    "# distCoeffs=np.array([ 0.10977 ,  -0.29957 ,  -0.00915  , -0.00096 , 0.00000 ])\n",
    "\n",
    "cameraMatrix= np.array([[548.45087,0,312.86352],[0,536.62930,225.41694],[0,0,1]])\n",
    "distCoeffs=np.array([ 0.06835  , -0.11194  , -0.00436  , -0.00248 , 0.00000 ])"
   ]
  },
  {
   "attachments": {
    "extrinsicos.png": {
     "image/png": "[encoded data removed]"
    }
   },
   "cell_type": "markdown",
   "metadata": {},
   "source": [
    "![extrinsicos.png](attachment:extrinsicos.png)"
   ]
  },
  {
   "cell_type": "code",
   "execution_count": 67,
   "metadata": {},
   "outputs": [],
   "source": [
    "#---------------------------MAIN CODE-----------------------------------------------------------------------------------\n",
    "\n",
    "img = cv2.imread('alvo.jpg', 0) #Lê alvo\n",
    "crop_img = img[:, 3:-4]  #transforma alvo em figura quadrada\n",
    "\n",
    "METODO=0\n",
    "#cria 4 alvos para comparar no futuro\n",
    "alvo1=np.copy(crop_img)\n",
    "alvo2= rotateImage(alvo1,90)\n",
    "alvo3= rotateImage(alvo2,90)\n",
    "alvo4= rotateImage(alvo3,90)\n",
    "\n",
    "alvo1m=cv2.flip(alvo1,0)\n",
    "alvo2m= rotateImage(alvo1m,90)\n",
    "alvo3m= rotateImage(alvo2m,90)\n",
    "alvo4m= rotateImage(alvo3m,90)\n",
    "\n",
    "#captura video\n",
    "cap = cv2.VideoCapture('entrada.avi')\n",
    "\n",
    "#captura dimensões do video\n",
    "frame_width = int(cap.get(3))\n",
    "frame_height = int(cap.get(4))\n",
    "\n",
    "\n",
    "rows = frame_height  # salva em variável rows numero de linhas\n",
    "cols = frame_width   # salva em variável cols numero de colunas\n",
    "\n",
    "tamXalvo = alvo1.shape[1]   #salva tamanho do alvo em X\n",
    "tamYalvo = alvo1.shape[0]   #salva tamanho do alvo em Y\n",
    "contaframes=0\n",
    "# framesCalibrar=[]\n"
   ]
  },
  {
   "cell_type": "code",
   "execution_count": 68,
   "metadata": {},
   "outputs": [],
   "source": [
    "para=0\n",
    "contaRoda=0\n",
    "glutInit()\n",
    "glutInitWindowSize(cols, rows)\n",
    "glutCreateWindow(\"TP2-Thiago_Borges & Guilherme Leles\")\n",
    "glutInitDisplayMode(GLUT_DOUBLE | GLUT_RGB)\n",
    "glClearColor(0.0, 0.0, 0.0, 0.0)\n",
    "obj, background_id= initOpenGL(cameraMatrix,(cols,rows))\n",
    "contapnpsAtual=[]\n",
    "guardapnps=[]\n",
    "contaframes=0\n",
    "intervaloFrame=8\n",
    "s=0"
   ]
  },
  {
   "cell_type": "code",
   "execution_count": 69,
   "metadata": {},
   "outputs": [],
   "source": [
    "def opengl_return(frame,M):\n",
    "\n",
    "    #-------------INICIO-DO-OPENGL---------------------\n",
    "\n",
    "    background = cv2.cvtColor(frame, cv2.COLOR_BGR2RGB)\n",
    "    background = cv2.flip(background, 0)\n",
    "\n",
    "    height, width, channels = background.shape\n",
    "    background = np.fromstring(background.tostring(), background.dtype, height * width * channels)\n",
    "    background.shape = (height, width, channels)\n",
    "\n",
    "\n",
    "    try:\n",
    "        glPopMatrix()\n",
    "    except:\n",
    "        print(\"erro\")\n",
    "\n",
    "    glEnable(GL_TEXTURE_2D)\n",
    "\n",
    "    glBindTexture(GL_TEXTURE_2D, background_id)\n",
    "\n",
    "    glTexImage2D(GL_TEXTURE_2D, 0, GL_RGB, width, height, 0, GL_RGB, GL_UNSIGNED_BYTE, background)\n",
    "    glTexParameteri(GL_TEXTURE_2D, GL_TEXTURE_MIN_FILTER, GL_LINEAR)\n",
    "    glTexParameteri(GL_TEXTURE_2D, GL_TEXTURE_MAG_FILTER, GL_LINEAR)\n",
    "    # glActiveTexture(GL_TEXTURE0)\n",
    "\n",
    "    glGenerateMipmap(GL_TEXTURE_2D)\n",
    "\n",
    "    glDepthMask(GL_TRUE)\n",
    "    glEnable(GL_DEPTH_TEST)\n",
    "    \n",
    "    glMatrixMode(GL_PROJECTION)\n",
    "    glPushMatrix()\n",
    "\n",
    "    glLoadIdentity()\n",
    "    gluOrtho2D(0, width, 0, height)\n",
    "\n",
    "\n",
    "\n",
    "    glMatrixMode(GL_MODELVIEW)\n",
    "\n",
    "    glBindTexture(GL_TEXTURE_2D, background_id)\n",
    "\n",
    "\n",
    "    glPushMatrix()\n",
    "    glBegin(GL_QUADS)\n",
    "    glTexCoord2i(0,0)\n",
    "    glVertex2i(0,0)\n",
    "    glTexCoord2i(1,0)\n",
    "    glVertex2i(width,0)\n",
    "    glTexCoord2i(1,1)\n",
    "    glVertex2i(width, height)\n",
    "    glTexCoord2i(0,1)\n",
    "    glVertex2i(0,height)\n",
    "    glEnd()\n",
    "    \n",
    "\n",
    "    glPopMatrix()\n",
    "    glMatrixMode(GL_PROJECTION)\n",
    "    glPopMatrix()\n",
    "    glMatrixMode(GL_MODELVIEW)\n",
    "   \n",
    "    glDisable(GL_TEXTURE_2D)\n",
    "\n",
    "    glMatrixMode(GL_MODELVIEW)\n",
    "    glPushMatrix()\n",
    "    glLoadIdentity()\n",
    "\n",
    "    kll = 0\n",
    "    for i in M:\n",
    "        \n",
    "        glMatrixMode(GL_MODELVIEW)\n",
    "        glPushMatrix()\n",
    "        glLoadIdentity()\n",
    "        glLoadMatrixf(np.transpose(i))\n",
    "        glCallList(obj.gl_list)\n",
    "        glPopMatrix()\n",
    "        \n",
    "    glutSwapBuffers()\n",
    "\n",
    "    return 0"
   ]
  },
  {
   "cell_type": "code",
   "execution_count": null,
   "metadata": {},
   "outputs": [
    {
     "name": "stderr",
     "output_type": "stream",
     "text": [
      "/home/guilhermeleles/anaconda3/envs/pip/lib/python3.7/site-packages/ipykernel_launcher.py:9: DeprecationWarning: The binary mode of fromstring is deprecated, as it behaves surprisingly on unicode inputs. Use frombuffer instead\n",
      "  if __name__ == '__main__':\n"
     ]
    },
    {
     "name": "stdout",
     "output_type": "stream",
     "text": [
      "erro\n"
     ]
    }
   ],
   "source": [
    "while (1):\n",
    "    contaframes+=1\n",
    "    # reads frames from a camera\n",
    "    ret, frame = cap.read()\n",
    "    if not ret: break  #se chegar no final sai da rotina\n",
    "    gray = cv2.cvtColor(frame, cv2.COLOR_BGR2GRAY)\n",
    "\n",
    "    original = np.copy(frame)\n",
    "    final = np.copy(original)\n",
    "\n",
    "    mask1= cv2.Canny(frame,200,300)\n",
    "    imageContours, contours =  cv2.findContours(mask1,cv2.RETR_TREE,cv2.CHAIN_APPROX_SIMPLE)\n",
    "\n",
    "\n",
    "\n",
    "    k = cv2.waitKey(5) & 0xFF   #se pressionar esc sai da rotina\n",
    "\n",
    "    if k == 27 or s==1:\n",
    "        break\n",
    "\n",
    "\n",
    "    homografias=[]\n",
    "    approx=[]\n",
    "\n",
    "    approx, original ,quinas= find_rectangle(approx,original,homografias)\n",
    "\n",
    "\n",
    "#\n",
    "    for i in quinas:\n",
    "        for j in i:\n",
    "            guarda=j[1]\n",
    "            j[1]=j[0]\n",
    "            j[0]=guarda\n",
    "\n",
    "    final, pontospnp = retorna_final(quinas, gray, final)\n",
    "\n",
    "    var=tamXalvo\n",
    "\n",
    "    objectPoints = np.array(\n",
    "        [[tamXalvo / 2, tamYalvo/ 2, 0], [-tamXalvo / 2, tamYalvo / 2, 0],[-tamXalvo / 2,  -tamYalvo/ 2, 0],[tamXalvo / 2, -tamYalvo / 2, 0]])\n",
    "\n",
    "    matRotacao=[]\n",
    "    tamYalvo=tamXalvo\n",
    "\n",
    "    vecTranslacao=[]\n",
    "\n",
    "    pontospnp2=[]\n",
    "\n",
    "    pontospnp2 = excluir_alvos_proximos(pontospnp, pontospnp2)\n",
    "\n",
    "    if contaframes<intervaloFrame: contapnpsAtual.append(len(pontospnp2))\n",
    "    else :\n",
    "        contapnpsAtual.append(len(pontospnp2))\n",
    "        contapnpsAtual.pop(0)\n",
    "\n",
    "    if len(pontospnp2)== max(contapnpsAtual):\n",
    "        guardapnps=[]\n",
    "        for i in pontospnp2:\n",
    "            guardapnps.append(i)\n",
    "    else:\n",
    "        for i in guardapnps:\n",
    "            if i in pontospnp2:\n",
    "                a=0\n",
    "            else:\n",
    "                pontospnp2.append(i)\n",
    "\n",
    "    pontospnp3 = []\n",
    "\n",
    "    pontospnp3 = excluir_alvos_proximos(pontospnp2, pontospnp3)\n",
    "   \n",
    "\n",
    "    \n",
    "    M,matRotacao,vecTranslacao = functionPnP(pontospnp3, objectPoints, cameraMatrix, distCoeffs)\n",
    "\n",
    "\n",
    "\n",
    "    cv2.imshow('Contornos', final)\n",
    "\n",
    "\n",
    "    opengl_return(frame,M)  \n",
    "    \n",
    "\n",
    "\n",
    "cap.release()\n",
    "\n",
    "\n"
   ]
  },
  {
   "cell_type": "code",
   "execution_count": null,
   "metadata": {},
   "outputs": [],
   "source": []
  },
  {
   "cell_type": "code",
   "execution_count": null,
   "metadata": {},
   "outputs": [],
   "source": []
  },
  {
   "cell_type": "code",
   "execution_count": null,
   "metadata": {},
   "outputs": [],
   "source": []
  },
  {
   "cell_type": "code",
   "execution_count": null,
   "metadata": {},
   "outputs": [],
   "source": []
  }
 ],
 "metadata": {
  "kernelspec": {
   "display_name": "Python 3",
   "language": "python",
   "name": "python3"
  },
  "language_info": {
   "codemirror_mode": {
    "name": "ipython",
    "version": 3
   },
   "file_extension": ".py",
   "mimetype": "text/x-python",
   "name": "python",
   "nbconvert_exporter": "python",
   "pygments_lexer": "ipython3",
   "version": "3.7.4"
  }
 },
 "nbformat": 4,
 "nbformat_minor": 2
}
